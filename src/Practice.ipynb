{
 "cells": [
  {
   "cell_type": "code",
   "execution_count": 12,
   "metadata": {},
   "outputs": [],
   "source": [
    "import numpy as np\n",
    "from dolfin import *\n",
    "\n",
    "import matplotlib.pyplot as plt\n",
    "from matplotlib.patches import Rectangle"
   ]
  },
  {
   "cell_type": "markdown",
   "metadata": {},
   "source": [
    "```python \n",
    "def set_sources():\n",
    "    num_src = 1000 #np.random.randint(1,10)\n",
    "    side = np.random.randint(2,size = num_src)\n",
    "    pos = np.random.rand(num_src)\n",
    "    coords = np.vstack((side,pos))\n",
    "    return np.apply_along_axis(np.random.permutation,0,coords)\n",
    "```"
   ]
  },
  {
   "cell_type": "code",
   "execution_count": 4,
   "metadata": {},
   "outputs": [],
   "source": [
    "def set_srcs(low, high):\n",
    "    \"\"\"\n",
    "    This method (equivalent of the one above) randomly places points \n",
    "    along the border. The number of points `num_srcs` is randomly \n",
    "    chosen as well.\n",
    "    \"\"\"    \n",
    "    num_src = np.random.randint(low,high)\n",
    "    xy, s = np.split(np.random.randint(2, \n",
    "                     size = 2 * num_src), 2)\n",
    "    \n",
    "    yx = np.random.rand(num_src)\n",
    "    coords = np.vstack((xy,yx))\n",
    "    rows, cols = np.ogrid[:coords.shape[0],\n",
    "                          :coords.shape[1]]\n",
    "    \n",
    "    rows = rows - s\n",
    "    return coords[rows,cols]"
   ]
  },
  {
   "cell_type": "code",
   "execution_count": 5,
   "metadata": {},
   "outputs": [
    {
     "data": {
      "image/png": "[encoded data removed]",
      "text/plain": [
       "<Figure size 432x288 with 1 Axes>"
      ]
     },
     "metadata": {
      "needs_background": "light"
     },
     "output_type": "display_data"
    }
   ],
   "source": [
    "x,y = set_srcs(3, 8)\n",
    "fig,ax = plt.subplots()\n",
    "ax.scatter(x,y)\n",
    "rect = Rectangle((0,0) ,1, 1, fill=False)\n",
    "ax.add_patch(rect)\n",
    "ax.set_ylim(-0.2,1.2)\n",
    "ax.set_xlim(-0.2,1.2)\n",
    "srcs = np.hstack((x[:,np.newaxis],y[:,np.newaxis]))"
   ]
  },
  {
   "cell_type": "code",
   "execution_count": 6,
   "metadata": {},
   "outputs": [
    {
     "name": "stdout",
     "output_type": "stream",
     "text": [
      "Calling FFC just-in-time (JIT) compiler, this may take some time.\n"
     ]
    }
   ],
   "source": [
    "mesh = UnitSquareMesh(128, 128)\n",
    "V = FunctionSpace(mesh,'P',1)"
   ]
  },
  {
   "cell_type": "code",
   "execution_count": 7,
   "metadata": {},
   "outputs": [],
   "source": [
    "class Points(SubDomain):\n",
    "    def __init__(self,srcs):\n",
    "        super().__init__()\n",
    "        self.srcs = srcs\n",
    "        \n",
    "    def check(self,x,srcs):\n",
    "        A = np.tile(x, (srcs.shape[0], 1))\n",
    "        bool_A = np.isclose(A, srcs, atol=1e-2)\n",
    "        return np.multiply.reduce(bool_A, 1).sum()\n",
    "    \n",
    "    def inside(self,x,on_boundary):\n",
    "        return self.check(x, self.srcs)\n",
    "    \n",
    "class Punctures(Points):\n",
    "    def init(self,srcs):\n",
    "        super().__init__(srcs)\n",
    "        \n",
    "    def inside(self,x,on_boundary):\n",
    "        return on_boundary and not self.check(x, self.srcs)"
   ]
  },
  {
   "cell_type": "code",
   "execution_count": 8,
   "metadata": {},
   "outputs": [],
   "source": [
    "points = Points(srcs)\n",
    "punctures = Punctures(srcs)\n",
    "bc1 = DirichletBC(V, Constant(1.),points, method=\"pointwise\")\n",
    "bc2 = DirichletBC(V, Constant(0.),punctures, method=\"pointwise\")\n",
    "bcs = [bc1,bc2]"
   ]
  },
  {
   "cell_type": "code",
   "execution_count": 9,
   "metadata": {},
   "outputs": [],
   "source": [
    "u = TrialFunction(V)\n",
    "v = TestFunction(V)\n",
    "a = dot(grad(u), grad(v)) * dx\n",
    "L = Constant(0.) * v * dx"
   ]
  },
  {
   "cell_type": "code",
   "execution_count": 10,
   "metadata": {},
   "outputs": [
    {
     "name": "stdout",
     "output_type": "stream",
     "text": [
      "Calling FFC just-in-time (JIT) compiler, this may take some time.\n",
      "Calling FFC just-in-time (JIT) compiler, this may take some time.\n",
      "Calling FFC just-in-time (JIT) compiler, this may take some time.\n",
      "Calling FFC just-in-time (JIT) compiler, this may take some time.\n",
      "Calling FFC just-in-time (JIT) compiler, this may take some time.\n",
      "Calling FFC just-in-time (JIT) compiler, this may take some time.\n"
     ]
    }
   ],
   "source": [
    "u = Function(V)\n",
    "solve(a == L, u, bcs)"
   ]
  },
  {
   "cell_type": "code",
   "execution_count": 11,
   "metadata": {},
   "outputs": [
    {
     "data": {
      "image/png": "[encoded data removed]",
      "text/plain": [
       "<Figure size 432x288 with 1 Axes>"
      ]
     },
     "metadata": {
      "needs_background": "light"
     },
     "output_type": "display_data"
    }
   ],
   "source": [
    "plot(u);"
   ]
  },
  {
   "cell_type": "code",
   "execution_count": null,
   "metadata": {},
   "outputs": [],
   "source": []
  }
 ],
 "metadata": {
  "kernelspec": {
   "display_name": "Python 3",
   "language": "python",
   "name": "python3"
  },
  "language_info": {
   "codemirror_mode": {
    "name": "ipython",
    "version": 3
   },
   "file_extension": ".py",
   "mimetype": "text/x-python",
   "name": "python",
   "nbconvert_exporter": "python",
   "pygments_lexer": "ipython3",
   "version": "3.6.7"
  }
 },
 "nbformat": 4,
 "nbformat_minor": 2
}
