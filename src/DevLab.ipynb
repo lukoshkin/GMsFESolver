{
 "cells": [
  {
   "cell_type": "code",
   "execution_count": 1,
   "metadata": {
    "init_cell": true
   },
   "outputs": [],
   "source": [
    "import time\n",
    "import math\n",
    "import pickle\n",
    "\n",
    "import numpy as np\n",
    "import scipy.linalg\n",
    "\n",
    "from petsc4py import PETSc\n",
    "from slepc4py import SLEPc\n",
    "\n",
    "from ufl import *\n",
    "from dolfin import *\n",
    "from mpi4py import MPI\n",
    "\n",
    "%matplotlib inline\n",
    "import matplotlib.pyplot as plt\n",
    "from matplotlib.patches import Rectangle\n",
    "from matplotlib.lines import Line2D\n",
    "import matplotlib.cm as cm\n",
    "\n",
    "from optimal_distribution import *\n",
    "from obsolete.gmsfem import *\n",
    "from utils import get_simple_kappa"
   ]
  },
  {
   "cell_type": "code",
   "execution_count": null,
   "metadata": {},
   "outputs": [],
   "source": [
    "#%load_ext line_profiler"
   ]
  },
  {
   "cell_type": "code",
   "execution_count": 2,
   "metadata": {
    "init_cell": true
   },
   "outputs": [],
   "source": [
    "def old_basis(Nv_on, xi, V, W):\n",
    "    buf = []\n",
    "    for v_dofs in Nv_on:\n",
    "        v = Function(V)\n",
    "        v.vector().set_local(v_dofs)\n",
    "        \n",
    "        w = Function(W)\n",
    "        LagrangeInterpolator.interpolate(w, project(xi*v, V))\n",
    "        buf.append(w)\n",
    "    \n",
    "    return buf\n",
    "\n",
    "def new_basis(Nv_on, xi, V, W):\n",
    "    buf = []\n",
    "    for v_dofs in Nv_on:\n",
    "        v = Function(V)\n",
    "        v.vector().set_local(v_dofs)\n",
    "        v.vector()[:] *= xi.vector()[:]\n",
    "        \n",
    "        w = Function(W)\n",
    "        LagrangeInterpolator.interpolate(w, v)\n",
    "        buf.append(w)\n",
    "    \n",
    "    return buf, Nv_on * xi.vector()[:]\n",
    "\n",
    "def to_dofs(Psi_ms):\n",
    "    buf = []\n",
    "    for v in Psi_ms:\n",
    "        buf.append(v.vector().get_local())\n",
    "    return np.array(buf).reshape(N_cnbh, M_off, -1)\n",
    "\n",
    "def resotre_fns(Nv, W):\n",
    "    buf = []\n",
    "    for dofs in Nv:\n",
    "        w = Function(W)\n",
    "        w.vector()[:] = dofs\n",
    "        buf.append(w)\n",
    "        \n",
    "    return np.array(buf)\n",
    "\n",
    "def get_coord(reg_id):\n",
    "    col = reg_id % (n_blocks-1)\n",
    "    row = reg_id // (n_blocks-1)\n",
    "    return col, row\n",
    "    \n",
    "def build_V(reg_id):\n",
    "    col, row = get_coord(reg_id)\n",
    "    mesh = UnitSquareMesh(2*n_el, 2*n_el)\n",
    "    mesh.translate(Point(col*.5, row*.5))\n",
    "    mesh.scale(2./n_blocks)\n",
    "\n",
    "    return FunctionSpace(mesh, 'P', 1)\n",
    "\n",
    "def middle_basis(Nv_on, xi, W):\n",
    "    V = xi.function_space()\n",
    "    buf = []\n",
    "    Nv_ms = []\n",
    "    for v_dofs in Nv_on:\n",
    "        v = Function(V)\n",
    "        v.vector().set_local(v_dofs)\n",
    "        v = project(xi*v, V)\n",
    "        Nv_ms.append(v.vector()[:])\n",
    "        \n",
    "        w = Function(W)\n",
    "        LagrangeInterpolator.interpolate(w, v)\n",
    "        buf.append(w)\n",
    "        \n",
    "    return buf, np.array(Nv_ms)\n",
    "\n",
    "def get_slice(A, i, j):\n",
    "    return A[i*M_off:(i+1)*M_off, j*M_off:(j+1)*M_off]"
   ]
  },
  {
   "cell_type": "markdown",
   "metadata": {},
   "source": [
    "# P1 Case"
   ]
  },
  {
   "cell_type": "code",
   "execution_count": null,
   "metadata": {
    "scrolled": false
   },
   "outputs": [],
   "source": [
    "from p1case import *\n",
    "\n",
    "n_el = 8\n",
    "n_blocks = 8 # must be > 3\n",
    "\n",
    "N_el = n_el * n_blocks\n",
    "N_cnbh = (n_blocks-1)**2\n",
    "\n",
    "M_off = 10\n",
    "M_on = 5\n",
    "eta = 1e3\n",
    "# -----------------\n",
    "\n",
    "with open('cutils/pymodule2.cpp', 'r') as fp:\n",
    "    cutils = compile_cpp_code(fp.read(), include_dirs=['cutils'])\n",
    "K = get_simple_kappa(eta, N_el, seed=123)\n",
    "W = K.function_space()\n",
    "fine_mesh = W.mesh()\n",
    "\n",
    "RHS = Expression('sin(2*pi*x[0])*sin(2*pi*x[1])', pi=pi, degree=1)\n",
    "pairs = overlap_map(n_blocks-1)\n",
    "\n",
    "cores = [None] * (n_blocks-1)*(n_blocks-1)\n",
    "K_list, RHS_list = [], []\n",
    "\n",
    "Nv_ms = np.empty((len(cores), M_off, (2*n_el+1)**2))\n",
    "ms_dofs = np.empty((len(cores), M_off, ((N_el+1)**2)))"
   ]
  },
  {
   "cell_type": "code",
   "execution_count": null,
   "metadata": {},
   "outputs": [],
   "source": [
    "%%time\n",
    "for i in range(len(cores)):\n",
    "    V = build_V(i)\n",
    "    kappa = project(K, V)\n",
    "    K_list.append(kappa)\n",
    "    RHS_list.append(project(RHS, V))\n",
    "\n",
    "    cores[i] = GMsFEUnit(i, n_el, n_blocks, cutils)\n",
    "    Nv = cores[i].snapshotSpace(kappa)\n",
    "    \n",
    "    Nv,_= cores[i].modelReduction(kappa, Nv, M_off)\n",
    "    Nv_ms[i] = cores[i].multiscaleFunctions(kappa, Nv)\n",
    "    ms_dofs[i] = zero_extrapolate(Nv_ms[i], V, W, *get_coord(i))"
   ]
  },
  {
   "cell_type": "code",
   "execution_count": null,
   "metadata": {},
   "outputs": [],
   "source": [
    "%%time\n",
    "A = np.zeros((len(cores)*M_off, len(cores)*M_off))\n",
    "b = np.zeros(len(cores)*M_off)\n",
    "\n",
    "for i in range(len(cores)):\n",
    "    A_ii, b_i = cores[i].diagonalBlock(K_list[i], Nv_ms[i], RHS_list[i])\n",
    "    A[i*M_off:(i+1)*M_off, i*M_off:(i+1)*M_off] = A_ii\n",
    "    b[i*M_off:(i+1)*M_off] = b_i\n",
    "    \n",
    "for i,j in pairs:\n",
    "    A_ij = cores[i].offdiagonalBlock(K_list[i], Nv_ms[i], Nv_ms[j], j-i)\n",
    "    A[i*M_off:(i+1)*M_off, j*M_off:(j+1)*M_off] = A_ij"
   ]
  },
  {
   "cell_type": "code",
   "execution_count": null,
   "metadata": {},
   "outputs": [],
   "source": [
    "i_lower = np.tril_indices(len(A), -1)\n",
    "A[i_lower] = A.T[i_lower]\n",
    "\n",
    "sol = Function(W)\n",
    "u = scipy.linalg.solve(A, b, assume_a='pos')\n",
    "sol.vector().set_local(u @ ms_dofs.reshape(-1, W.dim()))"
   ]
  },
  {
   "cell_type": "code",
   "execution_count": null,
   "metadata": {},
   "outputs": [],
   "source": [
    "%%time\n",
    "v1 = TrialFunction(W)\n",
    "v2 = TestFunction(W)\n",
    "dx = Measure('dx', W)\n",
    "a = K*dot(grad(v1), grad(v2)) * dx\n",
    "L = RHS*v2*dx\n",
    "u_f = Function(W)\n",
    "bc = DirichletBC(W, Constant(0.), lambda x,on : on)\n",
    "\n",
    "solve(a==L, u_f, bc)"
   ]
  },
  {
   "cell_type": "code",
   "execution_count": null,
   "metadata": {},
   "outputs": [],
   "source": [
    "plt.figure(figsize=(32, 32))\n",
    "plt.subplot(121)\n",
    "p = plot(sol);\n",
    "#plt.colorbar(p);\n",
    "\n",
    "plt.subplot(122)\n",
    "plot(u_f);\n",
    "\n",
    "print(norm(project(u_f - sol, W)))"
   ]
  },
  {
   "cell_type": "markdown",
   "metadata": {},
   "source": [
    "# General Case"
   ]
  },
  {
   "cell_type": "code",
   "execution_count": null,
   "metadata": {},
   "outputs": [],
   "source": [
    "from core_components import *\n",
    "\n",
    "n_el = 16\n",
    "n_blocks = 8 # must be > 3\n",
    "\n",
    "N_el = n_el * n_blocks\n",
    "N_cnbh = (n_blocks-1)**2\n",
    "\n",
    "M_off = 10\n",
    "M_on = 5\n",
    "eta = 1e3\n",
    "# -----------------\n",
    "\n",
    "with open('cutils/pymodule2.cpp', 'r') as fp:\n",
    "    cutils = compile_cpp_code(fp.read(), include_dirs=['cutils'])\n",
    "K = get_simple_kappa(eta, N_el, seed=123)\n",
    "W = K.function_space()\n",
    "fine_mesh = W.mesh()\n",
    "\n",
    "rhs = 'sin(2*pi*x[0])*sin(2*pi*x[1])'\n",
    "RHS = Expression(rhs, pi=math.pi, degree=1)\n",
    "\n",
    "cores = [None] * (n_blocks-1)*(n_blocks-1) \n",
    "pairs = overlap_map(n_blocks-1)\n",
    "Psi_ms = [None] * len(cores)\n",
    "K_list, RHS_list = [], []"
   ]
  },
  {
   "cell_type": "code",
   "execution_count": null,
   "metadata": {},
   "outputs": [],
   "source": [
    "%%time\n",
    "for reg_id in range(len(cores)):\n",
    "    V = build_V(reg_id)\n",
    "    kappa = project(K, V)\n",
    "    K_list.append(kappa)\n",
    "    RHS_list.append(project(RHS, V))\n",
    "\n",
    "    cores[reg_id] = GMsFEUnit(reg_id, n_el, n_blocks, cutils)\n",
    "    Nv = cores[reg_id].snapshotSpace(kappa)\n",
    "    Nv_on, w_off = cores[reg_id].modelReduction(kappa, Nv, M_off)\n",
    "    xi = cores[reg_id].partitionFunction(kappa)\n",
    "    Psi_ms[reg_id] = old_basis(Nv_on, xi, V, W)\n",
    "\n",
    "Psi_ms = np.array(Psi_ms).flatten()\n",
    "Nv_ms = to_dofs(Psi_ms)"
   ]
  },
  {
   "cell_type": "code",
   "execution_count": null,
   "metadata": {},
   "outputs": [],
   "source": [
    "%%time\n",
    "A = np.zeros((len(cores)*M_off, len(cores)*M_off))\n",
    "b = np.zeros(len(cores)*M_off)\n",
    "\n",
    "rhs_ = project(RHS, W)\n",
    "for i in range(len(cores)):\n",
    "    A_ii, b_i = cores[i].diagonalBlock(K, Nv_ms[i].tolist(), rhs_)\n",
    "    A[i*M_off:(i+1)*M_off, i*M_off:(i+1)*M_off], b[i*M_off:(i+1)*M_off] = A_ii, b_i"
   ]
  },
  {
   "cell_type": "code",
   "execution_count": null,
   "metadata": {
    "scrolled": false
   },
   "outputs": [],
   "source": [
    "%%time\n",
    "for i,j in pairs:\n",
    "    pos = j - i\n",
    "    A_ij = cores[i].offdiagonalBlock(K, Nv_ms[i].tolist(), Nv_ms[j].tolist(), pos)\n",
    "    A[i*M_off:(i+1)*M_off, j*M_off:(j+1)*M_off] = A_ij"
   ]
  },
  {
   "cell_type": "code",
   "execution_count": null,
   "metadata": {},
   "outputs": [],
   "source": [
    "i_lower = np.tril_indices(len(A), -1)\n",
    "A[i_lower] = A.T[i_lower]\n",
    "\n",
    "u = scipy.linalg.solve(A, b)\n",
    "sol = project((u * Psi_ms).sum(), W)"
   ]
  },
  {
   "cell_type": "code",
   "execution_count": null,
   "metadata": {},
   "outputs": [],
   "source": [
    "%%time\n",
    "v1 = TrialFunction(W)\n",
    "v2 = TestFunction(W)\n",
    "dx = Measure('dx', W)\n",
    "a = K*dot(grad(v1), grad(v2)) * dx\n",
    "L = RHS*v2*dx\n",
    "u_f = Function(W)\n",
    "bc = DirichletBC(W, Constant(0.), lambda x,on : on)\n",
    "\n",
    "solve(a==L, u_f, bc)"
   ]
  },
  {
   "cell_type": "code",
   "execution_count": null,
   "metadata": {},
   "outputs": [],
   "source": [
    "plt.figure(figsize=(16, 16))\n",
    "plt.subplot(121)\n",
    "plot(sol);\n",
    "\n",
    "plt.subplot(122)\n",
    "plot(u_f);\n",
    "\n",
    "print(norm(project(u_f - sol, W)))"
   ]
  },
  {
   "cell_type": "markdown",
   "metadata": {
    "deletable": false,
    "editable": false,
    "run_control": {
     "frozen": true
    }
   },
   "source": [
    "# Colored Partition"
   ]
  },
  {
   "cell_type": "code",
   "execution_count": null,
   "metadata": {},
   "outputs": [],
   "source": [
    "cp = ColoredPartition(9, 4)"
   ]
  },
  {
   "cell_type": "code",
   "execution_count": null,
   "metadata": {},
   "outputs": [],
   "source": [
    "cp.partition(9)"
   ]
  },
  {
   "cell_type": "code",
   "execution_count": null,
   "metadata": {},
   "outputs": [],
   "source": [
    "print((cp.map['c'] != None).sum())\n",
    "print(cp.map['c'])\n",
    "print()\n",
    "print(cp.map['r'])"
   ]
  },
  {
   "cell_type": "code",
   "execution_count": null,
   "metadata": {},
   "outputs": [],
   "source": [
    "A = 100*np.random.rand(1000, 100, 100)\n",
    "B = A.astype('i8')\n",
    "C = A.astype('i2')\n",
    "\n",
    "%timeit C@C\n",
    "%timeit B@B"
   ]
  },
  {
   "cell_type": "markdown",
   "metadata": {
    "deletable": false,
    "editable": false,
    "run_control": {
     "frozen": true
    }
   },
   "source": [
    "# Python CPP module"
   ]
  },
  {
   "cell_type": "code",
   "execution_count": null,
   "metadata": {},
   "outputs": [],
   "source": [
    "with open('cutils/pymodule2.cpp', 'r') as fp:\n",
    "    cpp_code = fp.read()\n",
    "    \n",
    "cutils = compile_cpp_code(cpp_code, include_dirs=['cutils'])"
   ]
  },
  {
   "cell_type": "code",
   "execution_count": null,
   "metadata": {},
   "outputs": [],
   "source": [
    "# MINIMAL WORKING EXAMPLE\n",
    "import time\n",
    "import numpy as np\n",
    "\n",
    "from ufl import *\n",
    "from dolfin import *\n",
    "\n",
    "N = 32\n",
    "M = 4*N\n",
    "DIM = (N+1)*(N+1)\n",
    "mesh = UnitSquareMesh(N, N)\n",
    "V = FunctionSpace(mesh, 'P', 1)\n",
    "\n",
    "Psi_array = []\n",
    "kappa = Function(V)\n",
    "kappa.vector()[:] = 1.\n",
    "\n",
    "# Create simple functions for easier debugging\n",
    "# In this case, Mass_matrix_ij = i*j\n",
    "#               Stiffness_matrix_ij = 0\n",
    "for i in range(M):\n",
    "    psi = Function(V)\n",
    "    psi.vector()[:] = i\n",
    "    Psi_array.append(psi)"
   ]
  },
  {
   "cell_type": "code",
   "execution_count": null,
   "metadata": {},
   "outputs": [],
   "source": [
    "Mass_matrix = np.empty((M, M))\n",
    "elapsed_time =- time.time()\n",
    "#----\n",
    "for i in range(M):\n",
    "    for j in range(i, M):\n",
    "        Mass_matrix[i, j] = assemble(kappa*Psi_array[i]*Psi_array[j]*dx)\n",
    "#----\n",
    "elapsed_time += time.time()\n",
    "print(f'Calculating mass matrix has taken {elapsed_time:.2f} s')\n",
    "\n",
    "# Don't take into account transpose operation\n",
    "ij_lower = np.tril_indices(M, -1)\n",
    "Mass_matrix[ij_lower] = Mass_matrix.T[ij_lower]\n",
    "\n",
    "Stiffness_matrix = np.empty((M, M))\n",
    "elapsed_time =- time.time()\n",
    "#----\n",
    "for i in range(M):\n",
    "    for j in range(i, M):\n",
    "        Stiffness_matrix[i, j] = assemble(\n",
    "            kappa*dot(grad(Psi_array[i]), grad(Psi_array[j]))*dx)\n",
    "#----\n",
    "elapsed_time += time.time()\n",
    "print(f'Calculating stiffness matrix has taken {elapsed_time:.2f} s')\n",
    "\n",
    "# Don't take into account transpose operation\n",
    "ij_lower = np.tril_indices(M, -1)\n",
    "Stiffness_matrix[ij_lower] = Stiffness_matrix.T[ij_lower]"
   ]
  },
  {
   "cell_type": "code",
   "execution_count": null,
   "metadata": {},
   "outputs": [],
   "source": [
    "with open('cutils/nested_lists.cpp', 'r') as fp:\n",
    "    cpp_code1 = fp.read()\n",
    "\n",
    "with open('cutils/1d_arrays.cpp', 'r') as fp:\n",
    "    cpp_code2 = fp.read()\n",
    "\n",
    "with open('cutils/numpy_arrays.cpp', 'r') as fp:\n",
    "    cpp_code3 = fp.read()\n",
    "    \n",
    "with open('cutils/pymodule.cpp', 'r') as fp:\n",
    "    cpp_code4 = fp.read()"
   ]
  },
  {
   "cell_type": "code",
   "execution_count": null,
   "metadata": {},
   "outputs": [],
   "source": [
    "cutils1 = compile_cpp_code(cpp_code1, include_dirs=['cutils']) # It seems like \n",
    "cutils2 = compile_cpp_code(cpp_code2, include_dirs=['cutils']) # optimization flags\n",
    "cutils3 = compile_cpp_code(cpp_code3, include_dirs=['cutils']) # do not work.\n",
    "cutils4 = compile_cpp_code(cpp_code4, include_dirs=['cutils']) # As well as any others"
   ]
  },
  {
   "cell_type": "code",
   "execution_count": null,
   "metadata": {},
   "outputs": [],
   "source": [
    "CPsi_array = [x.cpp_object() for x in Psi_array]\n",
    "stiffness = cutils4.stiffness_integral_matrix(kappa.cpp_object(), CPsi_array)\n",
    "ij_lower = np.tril_indices(M, -1)\n",
    "stiffness[ij_lower] = stiffness.T[ij_lower]\n",
    "np.allclose(Stiffness_matrix, stiffness)"
   ]
  },
  {
   "cell_type": "code",
   "execution_count": null,
   "metadata": {},
   "outputs": [],
   "source": [
    "CPsi_array = [x.cpp_object() for x in Psi_array]\n",
    "mass = cutils4.mass_integral_matrix(kappa.cpp_object(), CPsi_array)\n",
    "ij_lower = np.tril_indices(M, -1)\n",
    "mass[ij_lower] = mass.T[ij_lower]\n",
    "np.allclose(Mass_matrix, mass)"
   ]
  },
  {
   "cell_type": "code",
   "execution_count": null,
   "metadata": {},
   "outputs": [],
   "source": [
    "def fn1():\n",
    "    v2d = vertex_to_dof_map(V)\n",
    "    F = np.empty((M, DIM), 'f8') \n",
    "    for i, psi in enumerate(Psi_array):\n",
    "        F[i] = psi.vector()[v2d]\n",
    "    K = kappa.vector()[v2d]\n",
    "    mass = cutils1.build_mass_matrix(F, K)\n",
    "    mass = np.array(mass)\n",
    "    ij_lower = np.tril_indices(M, -1)\n",
    "    mass[ij_lower] = mass.T[ij_lower]\n",
    "\n",
    "def fn2():\n",
    "    v2d = vertex_to_dof_map(V)\n",
    "    F = np.empty((M, DIM), 'f8') \n",
    "    for i, psi in enumerate(Psi_array):\n",
    "        F[i] = psi.vector()[v2d]\n",
    "    K = kappa.vector()[v2d]\n",
    "    data = np.r_[F.reshape(-1), K]\n",
    "    mass = cutils2.build_mass_matrix(data)\n",
    "    mass = mass.reshape(M, M)\n",
    "    ij_lower = np.tril_indices(M, -1)\n",
    "    mass[ij_lower] = mass.T[ij_lower]\n",
    "\n",
    "def fn3():\n",
    "    v2d = vertex_to_dof_map(V)\n",
    "    F = np.empty((M, DIM), 'f8') \n",
    "    for i, psi in enumerate(Psi_array):\n",
    "        F[i] = psi.vector()[v2d]\n",
    "    K = kappa.vector()[v2d]\n",
    "    mass = cutils3.build_mass_matrix(F, K)\n",
    "    ij_lower = np.tril_indices(M, -1)\n",
    "    mass[ij_lower] = mass.T[ij_lower]\n",
    "\n",
    "def fn4():\n",
    "    CPsi_array = [x.cpp_object() for x in Psi_array]\n",
    "    mass = cutils4.mass_integral_matrix(kappa.cpp_object(), CPsi_array)\n",
    "    ij_lower = np.tril_indices(M, -1)\n",
    "    mass[ij_lower] = mass.T[ij_lower]"
   ]
  },
  {
   "cell_type": "code",
   "execution_count": null,
   "metadata": {},
   "outputs": [],
   "source": [
    "t1 = %timeit -o fn1()\n",
    "t2 = %timeit -o fn2()\n",
    "t3 = %timeit -o fn3()\n",
    "t4 = %timeit -o fn4()"
   ]
  },
  {
   "cell_type": "code",
   "execution_count": null,
   "metadata": {},
   "outputs": [],
   "source": []
  }
 ],
 "metadata": {
  "celltoolbar": "Initialization Cell",
  "kernelspec": {
   "display_name": "Python 3",
   "language": "python",
   "name": "python3"
  },
  "language_info": {
   "codemirror_mode": {
    "name": "ipython",
    "version": 3
   },
   "file_extension": ".py",
   "mimetype": "text/x-python",
   "name": "python",
   "nbconvert_exporter": "python",
   "pygments_lexer": "ipython3",
   "version": "3.6.7"
  },
  "notify_time": "30",
  "toc": {
   "base_numbering": 1,
   "nav_menu": {},
   "number_sections": true,
   "sideBar": true,
   "skip_h1_title": false,
   "title_cell": "Table of Contents",
   "title_sidebar": "Contents",
   "toc_cell": false,
   "toc_position": {},
   "toc_section_display": true,
   "toc_window_display": false
  }
 },
 "nbformat": 4,
 "nbformat_minor": 2
}
