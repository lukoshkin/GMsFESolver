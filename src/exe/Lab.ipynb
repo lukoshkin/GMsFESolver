{
 "cells": [
  {
   "cell_type": "code",
   "execution_count": null,
   "metadata": {},
   "outputs": [],
   "source": [
    "from dolfin import *\n",
    "\n",
    "%matplotlib inline\n",
    "import matplotlib.pyplot as plt\n",
    "\n",
    "import sys\n",
    "sys.path.append('..')\n",
    "from petsc4py import PETSc\n",
    "\n",
    "from gmsfem.utils import *\n",
    "# from gmsfem.numpy.p1case import *    # one parameter\n",
    "from gmsfem.petsc.p1case import *  # many parameters\n",
    "from gmsfem.subdiv import *\n",
    "from autoload.optimal_distribution import *"
   ]
  },
  {
   "cell_type": "code",
   "execution_count": null,
   "metadata": {},
   "outputs": [],
   "source": [
    "# %load_ext line_profiler\n",
    "# %lprun -f func_name func_name(*args)"
   ]
  },
  {
   "cell_type": "code",
   "execution_count": null,
   "metadata": {},
   "outputs": [],
   "source": [
    "def get_coord(reg_id):\n",
    "    col = reg_id % (n_blocks-1)\n",
    "    row = reg_id // (n_blocks-1)\n",
    "    return col, row\n",
    "    \n",
    "def build_V(reg_id):\n",
    "    col, row = get_coord(reg_id)\n",
    "    mesh = UnitSquareMesh(2*n_el, 2*n_el)\n",
    "    mesh.translate(Point(col*.5, row*.5))\n",
    "    mesh.scale(2./n_blocks)\n",
    "\n",
    "    return FunctionSpace(mesh, 'P', 1)\n",
    "\n",
    "def grad_sqr_norm(df):\n",
    "    u, v = df \n",
    "    u, v = map(project, [u, v])\n",
    "    return u.vector()[:]**2 + v.vector()[:]**2"
   ]
  },
  {
   "cell_type": "markdown",
   "metadata": {
    "deletable": false,
    "editable": false,
    "heading_collapsed": true,
    "run_control": {
     "frozen": true
    }
   },
   "source": [
    "# P1 Space "
   ]
  },
  {
   "cell_type": "markdown",
   "metadata": {
    "deletable": false,
    "editable": false,
    "heading_collapsed": true,
    "hidden": true,
    "run_control": {
     "frozen": true
    }
   },
   "source": [
    "## One Parameter"
   ]
  },
  {
   "cell_type": "code",
   "execution_count": null,
   "metadata": {
    "hidden": true
   },
   "outputs": [],
   "source": [
    "n_el = 16\n",
    "n_blocks = 4 # must be > 3\n",
    "N_el = n_el * n_blocks\n",
    "N_cnbh = (n_blocks-1)**2\n",
    "\n",
    "M_off = 50\n",
    "M_on = 30\n",
    "eta = 1e3\n",
    "# -----------------\n",
    "\n",
    "K = get_simple_kappa(eta, N_el, rho=20, seed=123)\n",
    "W = K.function_space()\n",
    "fine_mesh = W.mesh()\n",
    "\n",
    "RHS = Expression('sin(2*pi*x[0])*sin(2*pi*x[1])', pi=pi, degree=1)\n",
    "#RHS = Expression('exp(-pow(x[0]-.5, 2)-pow(x[1]-.5, 2))', pi=np.pi, degree=1)\n",
    "pairs = overlap_map(n_blocks-1)\n",
    "\n",
    "cores = [None] * (n_blocks-1)*(n_blocks-1)\n",
    "K_list, RHS_list = [], []\n",
    "\n",
    "Nv_ms = np.empty((len(cores), M_off, (2*n_el+1)**2))\n",
    "ms_dofs = np.empty((len(cores), M_off, ((N_el+1)**2)))"
   ]
  },
  {
   "cell_type": "code",
   "execution_count": null,
   "metadata": {
    "hidden": true
   },
   "outputs": [],
   "source": [
    "%%time\n",
    "for i in range(len(cores)):\n",
    "    V = build_V(i)\n",
    "    kappa = project(K, V)\n",
    "    K_list.append(kappa)\n",
    "    RHS_list.append(project(RHS, V))\n",
    "\n",
    "    cores[i] = GMsFEUnit(i, n_el, n_blocks)\n",
    "    Nv = cores[i].snapshotSpace(kappa)\n",
    "    \n",
    "    Nv,w = cores[i].modelReduction(kappa, Nv, M_off)\n",
    "    Nv_ms[i] = cores[i].multiscaleDOFs(kappa, Nv)\n",
    "    ms_dofs[i] = zero_extrapolate(Nv_ms[i], V, W, *get_coord(i))\n",
    "\n",
    "clear_cache()"
   ]
  },
  {
   "cell_type": "code",
   "execution_count": null,
   "metadata": {
    "hidden": true
   },
   "outputs": [],
   "source": [
    "%%time\n",
    "A = np.zeros((len(cores)*M_off, len(cores)*M_off))\n",
    "b = np.zeros(len(cores)*M_off)\n",
    "\n",
    "for i in range(len(cores)):\n",
    "    A_ii, b_i = cores[i].diagonalBlock(K_list[i], Nv_ms[i], RHS_list[i])\n",
    "    A[i*M_off:(i+1)*M_off, i*M_off:(i+1)*M_off] = A_ii\n",
    "    b[i*M_off:(i+1)*M_off] = b_i\n",
    "    \n",
    "for i,j in pairs:\n",
    "    A_ij = cores[i].offdiagonalBlock(K_list[i], Nv_ms[i], Nv_ms[j], j-i)\n",
    "    A[i*M_off:(i+1)*M_off, j*M_off:(j+1)*M_off] = A_ij"
   ]
  },
  {
   "cell_type": "code",
   "execution_count": null,
   "metadata": {
    "hidden": true
   },
   "outputs": [],
   "source": [
    "sigma = 0 #1e-9\n",
    "i_lower = np.tril_indices(len(A), -1)\n",
    "A[i_lower] = A.T[i_lower]\n",
    "A += sigma*np.identity(len(A))\n",
    "\n",
    "sol = Function(W)\n",
    "u = scipy.linalg.solve(A, b, assume_a='pos')\n",
    "sol.vector().set_local(u @ ms_dofs.reshape(-1, W.dim()))"
   ]
  },
  {
   "cell_type": "code",
   "execution_count": null,
   "metadata": {
    "hidden": true
   },
   "outputs": [],
   "source": [
    "%%time\n",
    "v1 = TrialFunction(W)\n",
    "v2 = TestFunction(W)\n",
    "dx = Measure('dx', W)\n",
    "a = K*dot(grad(v1), grad(v2)) * dx\n",
    "L = RHS*v2*dx\n",
    "u_f = Function(W)\n",
    "bc = DirichletBC(W, Constant(0.), lambda x,on : on)\n",
    "\n",
    "solve(a==L, u_f, bc)"
   ]
  },
  {
   "cell_type": "code",
   "execution_count": null,
   "metadata": {
    "hidden": true
   },
   "outputs": [],
   "source": [
    "fig = plt.figure(figsize=(29, 24))\n",
    "ax1 = plt.subplot(221)\n",
    "plot(K)\n",
    "ax2 = plt.subplot(222)\n",
    "p1 = plot(RHS, mesh=fine_mesh)\n",
    "\n",
    "ax3 = plt.subplot(223)\n",
    "plot(sol);\n",
    "#ax3.set_title('GMsFESolver', size=32)\n",
    "\n",
    "ax4 = plt.subplot(224)\n",
    "p2 = plot(u_f);\n",
    "#ax4.set_title('FEM', size=32)\n",
    "\n",
    "cax1 = fig.colorbar(p1, ax=[ax1, ax2], location='right', shrink=.75, use_gridspec=True)\n",
    "cax2 = fig.colorbar(p2, ax=[ax3, ax4], location='right', shrink=.75, use_gridspec=True)\n",
    "cax1.ax.tick_params(labelsize=16)\n",
    "cax2.ax.tick_params(labelsize=16)\n",
    "ax3.text(\n",
    "    .5, -.08, f'L2 distance between them: {norm(project(u_f - sol, W)):.3}',\n",
    "    transform=ax3.transAxes, alpha=.5, color='r', size=22)\n",
    "\n",
    "#plt.tight_layout()\n",
    "#plt.savefig(f'../figures/np4sin_el{n_el}bl{n_blocks}off{M_off}on{M_on}.png')"
   ]
  },
  {
   "cell_type": "markdown",
   "metadata": {
    "deletable": false,
    "editable": false,
    "heading_collapsed": true,
    "hidden": true,
    "run_control": {
     "frozen": true
    }
   },
   "source": [
    "## Many parameters"
   ]
  },
  {
   "cell_type": "code",
   "execution_count": null,
   "metadata": {
    "hidden": true
   },
   "outputs": [],
   "source": [
    "n_el = 32\n",
    "n_blocks = 4\n",
    "\n",
    "N_el = n_el * n_blocks\n",
    "N_cnbh = (n_blocks-1)**2\n",
    "\n",
    "M_off = 30\n",
    "M_on = 15\n",
    "eta = [1e2]# 3e2]# 4e2]\n",
    "rho = N_el // 3\n",
    "# -----------------\n",
    "\n",
    "K = get_simple_kappa(eta, N_el, rho=rho, seed=123)\n",
    "W = K[0].function_space()\n",
    "fine_mesh = W.mesh()\n",
    "\n",
    "pairs = overlap_map(n_blocks-1)\n",
    "cores = [None] * (n_blocks-1)*(n_blocks-1)\n",
    "\n",
    "avg_K = Function(W)\n",
    "for kappa in K:\n",
    "    avg_K.vector().axpy(1/3, kappa.vector())\n",
    "\n",
    "V_set, avgK_set = [], []\n",
    "for i in range(len(cores)):\n",
    "    V_set.append(build_V(i))\n",
    "    avgK_set.append(project(avg_K, V_set[i]))\n",
    "    cores[i] = GMsFEUnit(i, n_el, n_blocks)\n",
    "clear_cache()\n",
    "    \n",
    "K_set = np.empty((len(eta), len(cores)), 'O')\n",
    "for k, gkappa in enumerate(K):\n",
    "    for i in range(len(cores)):\n",
    "        lkappa = project(gkappa, V_set[i])\n",
    "        K_set[k, i] = lkappa\n",
    "\n",
    "Nv_off = np.empty((len(cores), M_off, (2*n_el+1)**2))\n",
    "Nv_ms = np.empty((len(cores), M_on, (2*n_el+1)**2))\n",
    "ms_dofs = np.empty((len(cores), M_on, ((N_el+1)**2)))"
   ]
  },
  {
   "cell_type": "code",
   "execution_count": null,
   "metadata": {
    "hidden": true,
    "scrolled": false
   },
   "outputs": [],
   "source": [
    "%%time\n",
    "eps1 = 1e-12\n",
    "change_form = False\n",
    "\n",
    "if change_form:\n",
    "    acc = np.zeros((2*n_el+1)**2)\n",
    "    for i, kappa in enumerate(avgK_set):\n",
    "        xi = cores[i].partitionFunction(kappa)\n",
    "        acc += grad_sqr_norm(grad(xi))\n",
    "\n",
    "for i in range(len(cores)):\n",
    "    if change_form:\n",
    "        km = Function(V_set[i])\n",
    "        km.vector()[:] = avgK_set[i].vector().get_local()\n",
    "        km.vector()[:] *= acc\n",
    "    \n",
    "    Nv = np.empty((len(eta), 8*n_el, (2*n_el+1)**2))\n",
    "    for k, kappa in enumerate(K_set):\n",
    "        Nv[k] = cores[i].snapshotSpace(kappa[i])\n",
    "    Nv = Nv.reshape(len(eta)*8*n_el, -1)\n",
    "    \n",
    "    if not change_form: km = None\n",
    "    Nv_off[i], w_off = cores[i].modelReduction(avgK_set[i], Nv, M_off, eps=eps1, km=km)"
   ]
  },
  {
   "cell_type": "code",
   "execution_count": null,
   "metadata": {
    "hidden": true,
    "scrolled": false
   },
   "outputs": [],
   "source": [
    "%%time\n",
    "eps2 = 1e-14\n",
    "change_form = False\n",
    "\n",
    "perm_id = 0\n",
    "Kt = K_set[perm_id]\n",
    "\n",
    "if change_form:\n",
    "    acc = np.zeros((2*n_el+1)**2)\n",
    "    for i, kappa in enumerate(Kt):\n",
    "        xi = cores[i].partitionFunction(kappa)\n",
    "        acc += grad_sqr_norm(grad(xi))\n",
    "\n",
    "for i in range(len(cores)):\n",
    "    if change_form:\n",
    "        km = Function(V_set[i])\n",
    "        km.vector()[:] = Kt[i].vector().get_local()\n",
    "        km.vector()[:] *= acc\n",
    "\n",
    "    if not change_form: km = None\n",
    "    Nv_on, w_on = cores[i].modelReduction(Kt[i], Nv_off[i], M_on, eps=eps2, km=km)\n",
    "    Nv_ms[i] = cores[i].multiscaleDOFs(Kt[i], Nv_on)\n",
    "    ms_dofs[i] = zero_extrapolate(Nv_ms[i], V_set[i], W, *get_coord(i))"
   ]
  },
  {
   "cell_type": "code",
   "execution_count": null,
   "metadata": {
    "hidden": true
   },
   "outputs": [],
   "source": [
    "RHS = Expression('sin(2*pi*x[0])*sin(2*pi*x[1])', pi=np.pi, degree=1)\n",
    "#RHS = Expression('exp(-pow(x[0]-.5, 2)-pow(x[1]-.5, 2))', pi=pi, degree=1)\n",
    "\n",
    "RHS_set = []\n",
    "for i in range(len(cores)):\n",
    "    RHS_set.append(project(RHS, V_set[i]))"
   ]
  },
  {
   "cell_type": "code",
   "execution_count": null,
   "metadata": {
    "hidden": true
   },
   "outputs": [],
   "source": [
    "%%time\n",
    "bc = len(cores)*M_on\n",
    "A = PETSc.Mat()\n",
    "A.createAIJ((bc, bc))\n",
    "A.setUp()\n",
    "\n",
    "b = PETSc.Vec()\n",
    "b.createSeq(bc)\n",
    "\n",
    "for i in range(len(cores)):\n",
    "    A_ii, b_i = cores[i].diagonalBlock(Kt[i], Nv_ms[i], RHS_set[i])\n",
    "    I = np.arange(i*M_on, (i+1)*M_on, dtype='i4')\n",
    "    A.setValues(I, I, A_ii.getDenseArray().flatten())\n",
    "    b.setValues(I, b_i)\n",
    "    \n",
    "for i,j in pairs:\n",
    "    A_ij = cores[i].offdiagonalBlock(Kt[i], Nv_ms[i], Nv_ms[j], j-i)\n",
    "    I = np.arange(i*M_on, (i+1)*M_on, dtype='i4')\n",
    "    J = np.arange(j*M_on, (j+1)*M_on, dtype='i4')\n",
    "    A.setValues(I, J, A_ij.getDenseArray().flatten())\n",
    "    A.setValues(J, I, A_ij.getDenseArray().T.flatten())\n",
    "\n",
    "A.assemble()\n",
    "A = PETScMatrix(A)\n",
    "b = PETScVector(b)"
   ]
  },
  {
   "cell_type": "code",
   "execution_count": null,
   "metadata": {
    "hidden": true
   },
   "outputs": [],
   "source": [
    "%%time\n",
    "solver = LUSolver(A, 'superlu_dist')\n",
    "solver.parameters['symmetric'] = True\n",
    "\n",
    "u = Vector(MPI.comm_self, len(b))\n",
    "solver.solve(u, b)\n",
    "\n",
    "sol = Function(W)\n",
    "sol.vector().set_local(u @ ms_dofs.reshape(-1, W.dim()))"
   ]
  },
  {
   "cell_type": "code",
   "execution_count": null,
   "metadata": {
    "hidden": true,
    "scrolled": false
   },
   "outputs": [],
   "source": [
    "fig, (ax1, ax2) = plt.subplots(1, 2, figsize=(16, 8))\n",
    "ax1.plot(w_off/w_off[0])\n",
    "ax1.set_yscale('log')\n",
    "ax1.set_ylabel(r'$\\frac{\\lambda_i}{\\lambda_0}$', size=22)\n",
    "ax1.set_title('Offline', size=22)\n",
    "\n",
    "ax2.plot(w_on/w_on[0])\n",
    "ax2.set_yscale('log')\n",
    "ax2.set_title('Online', size=22)\n",
    "ax2.set_xlabel('i', size=22);"
   ]
  },
  {
   "cell_type": "code",
   "execution_count": null,
   "metadata": {
    "hidden": true
   },
   "outputs": [],
   "source": [
    "%%time\n",
    "v1 = TrialFunction(W)\n",
    "v2 = TestFunction(W)\n",
    "dx = Measure('dx', W)\n",
    "perm_id = 0\n",
    "a = K[perm_id]*dot(grad(v1), grad(v2)) * dx\n",
    "L = RHS*v2*dx\n",
    "u_f = Function(W)\n",
    "bc = DirichletBC(W, Constant(0.), lambda x,on: on)\n",
    "\n",
    "solve(a==L, u_f, bc)"
   ]
  },
  {
   "cell_type": "code",
   "execution_count": null,
   "metadata": {
    "hidden": true
   },
   "outputs": [],
   "source": [
    "fig = plt.figure(figsize=(9, 27))\n",
    "ax0 = plt.subplot(311)\n",
    "plot(K[perm_id])\n",
    "ax1 = plt.subplot(312)\n",
    "plot(sol);\n",
    "#ax1.set_title('GMsFESolver', size=32)\n",
    "\n",
    "ax2 = plt.subplot(313)\n",
    "p = plot(u_f);\n",
    "#ax2.set_title('FEM', size=32)\n",
    "\n",
    "#cax = fig.colorbar(p, ax=[ax1, ax2], shrink=.75)\n",
    "#cax.ax.tick_params(labelsize=16)\n",
    "ax1.text(\n",
    "    -.05, -.1, f'L2 distance between them: {norm(project(u_f - sol, W)):.3}',\n",
    "    transform=ax1.transAxes, alpha=.5, color='r', size=22)\n",
    "#plt.savefig(f'../figures/r{perm_id}el{n_el}bl{n_blocks}off{M_off}on{M_on}eps{(eps1+eps2)/2}sig{sigma}.png')"
   ]
  },
  {
   "cell_type": "markdown",
   "metadata": {
    "deletable": false,
    "editable": false,
    "heading_collapsed": true,
    "run_control": {
     "frozen": true
    }
   },
   "source": [
    "# Colored Partition"
   ]
  },
  {
   "cell_type": "code",
   "execution_count": null,
   "metadata": {
    "hidden": true
   },
   "outputs": [],
   "source": [
    "cp = ColoredPartition(9, 4)"
   ]
  },
  {
   "cell_type": "code",
   "execution_count": null,
   "metadata": {
    "hidden": true
   },
   "outputs": [],
   "source": [
    "cp.partition(9)"
   ]
  },
  {
   "cell_type": "code",
   "execution_count": null,
   "metadata": {
    "hidden": true
   },
   "outputs": [],
   "source": [
    "print((cp.map['c'] != None).sum())\n",
    "print(cp.map['c'])\n",
    "print()\n",
    "print(cp.map['r'])"
   ]
  },
  {
   "cell_type": "markdown",
   "metadata": {
    "deletable": false,
    "editable": false,
    "heading_collapsed": true,
    "run_control": {
     "frozen": true
    }
   },
   "source": [
    "# Python CPP module"
   ]
  },
  {
   "cell_type": "code",
   "execution_count": null,
   "metadata": {
    "hidden": true
   },
   "outputs": [],
   "source": [
    "with open('cutils/pymodule3.cpp', 'r') as fp:\n",
    "    cpp_code = fp.read()"
   ]
  },
  {
   "cell_type": "code",
   "execution_count": null,
   "metadata": {
    "hidden": true
   },
   "outputs": [],
   "source": [
    "cutils = compile_cpp_code(cpp_code, include_dirs=['cutils'])"
   ]
  }
 ],
 "metadata": {
  "celltoolbar": "Initialization Cell",
  "kernelspec": {
   "display_name": "Python 3",
   "language": "python",
   "name": "python3"
  },
  "language_info": {
   "codemirror_mode": {
    "name": "ipython",
    "version": 3
   },
   "file_extension": ".py",
   "mimetype": "text/x-python",
   "name": "python",
   "nbconvert_exporter": "python",
   "pygments_lexer": "ipython3",
   "version": "3.6.9"
  },
  "notify_time": "30",
  "toc": {
   "base_numbering": 1,
   "nav_menu": {},
   "number_sections": true,
   "sideBar": true,
   "skip_h1_title": false,
   "title_cell": "Table of Contents",
   "title_sidebar": "Contents",
   "toc_cell": false,
   "toc_position": {},
   "toc_section_display": true,
   "toc_window_display": false
  }
 },
 "nbformat": 4,
 "nbformat_minor": 2
}
